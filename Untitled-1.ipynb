{
 "cells": [
  {
   "cell_type": "markdown",
   "metadata": {},
   "source": [
    "#### While Loop"
   ]
  },
  {
   "cell_type": "code",
   "execution_count": 12,
   "metadata": {},
   "outputs": [
    {
     "name": "stdout",
     "output_type": "stream",
     "text": [
      "0\n",
      "2\n",
      "4\n",
      "6\n",
      "8\n",
      "10\n"
     ]
    }
   ],
   "source": [
    "x=0\n",
    "while(x<11):\n",
    "    print(x)\n",
    "    x=x+2"
   ]
  },
  {
   "cell_type": "markdown",
   "metadata": {},
   "source": [
    "### FIbonacci"
   ]
  },
  {
   "cell_type": "code",
   "execution_count": 13,
   "metadata": {},
   "outputs": [],
   "source": [
    "#print all the numbers of the fibonacci series that are divisible by 3 or 4 or 5\n",
    "def fibonacci(n):\n",
    "    x=0\n",
    "    y=1\n",
    "    print(x)\n",
    "    print(y)\n",
    "    for i in range(n-2):\n",
    "        z=x+y\n",
    "        x=y\n",
    "        y=z\n",
    "        print(z)\n",
    "\n"
   ]
  },
  {
   "cell_type": "markdown",
   "metadata": {},
   "source": [
    "### Factorial"
   ]
  },
  {
   "cell_type": "code",
   "execution_count": 14,
   "metadata": {},
   "outputs": [],
   "source": [
    "def factorial(n):\n",
    "    if n==0 or n==1:\n",
    "        return 1\n",
    "    else:\n",
    "        return n*factorial(n-1)\n"
   ]
  },
  {
   "cell_type": "code",
   "execution_count": 15,
   "metadata": {},
   "outputs": [
    {
     "name": "stdout",
     "output_type": "stream",
     "text": [
      "6\n"
     ]
    }
   ],
   "source": [
    "x=factorial(3)\n",
    "print(x)    "
   ]
  },
  {
   "cell_type": "markdown",
   "metadata": {},
   "source": [
    "### list,Dictionary,tuple,set"
   ]
  },
  {
   "cell_type": "code",
   "execution_count": 16,
   "metadata": {},
   "outputs": [],
   "source": [
    "d=input(\"enter:\")\n",
    "print(d)"
   ]
  },
  {
   "cell_type": "code",
   "execution_count": null,
   "metadata": {},
   "outputs": [
    {
     "name": "stdout",
     "output_type": "stream",
     "text": [
      "20\n",
      "Date: 30\n",
      "Month: 10\n"
     ]
    }
   ],
   "source": [
    "def age():\n",
    "    u_year=input(\"enter the DOB:\")\n",
    "    year=u_year[4:]\n",
    "    age=2023-int(year)\n",
    "    print(age)\n",
    "    print(\"Date:\",u_year[:2])\n",
    "    print(\"Month:\",u_year[2:4])\n",
    "age()   "
   ]
  },
  {
   "cell_type": "code",
   "execution_count": null,
   "metadata": {},
   "outputs": [
    {
     "name": "stdout",
     "output_type": "stream",
     "text": [
      "20 years 10 months 335 days\n"
     ]
    }
   ],
   "source": [
    "def age():\n",
    "    today=\"28102023\"\n",
    "    dob=input(\"enter the dob:\")\n",
    "    day=int(dob[:2])\n",
    "    month=int(dob[2:4])\n",
    "    year=int(dob[4:])\n",
    "    t_day=365-day\n",
    "    t_month=month\n",
    "    t_year=int(today[4:])-year\n",
    "    print(f\"{t_year} years {t_month} months {t_day} days\")\n",
    "    \n",
    "age()    "
   ]
  },
  {
   "cell_type": "code",
   "execution_count": null,
   "metadata": {},
   "outputs": [
    {
     "name": "stdout",
     "output_type": "stream",
     "text": [
      "42 years 1 months 10 days\n"
     ]
    }
   ],
   "source": [
    "dob=input(\"enter the dob:\")\n",
    "d_dob=int(dob[:2])\n",
    "mob=int(dob[2:4])\n",
    "yob=int(dob[4:])\n",
    "yob=int(yob)\n",
    "mob=int(mob)\n",
    "d_dob=int(d_dob)\n",
    "\n",
    "birth_days = 365*yob +30*mob+d_dob\n",
    "current_days=365*2023+30*10*28\n",
    "\n",
    "age_days=current_days-birth_days\n",
    "\n",
    "age_year=age_days//365\n",
    "reminder_days=age_days%365\n",
    "age_month=reminder_days//30\n",
    "age_day=reminder_days%30\n",
    "print(f\"{age_year} years {age_month} months {age_day} days\")\n",
    "\n"
   ]
  },
  {
   "cell_type": "code",
   "execution_count": null,
   "metadata": {},
   "outputs": [
    {
     "name": "stdout",
     "output_type": "stream",
     "text": [
      "the email is valid\n"
     ]
    }
   ],
   "source": [
    "def email_check():\n",
    "    email=input(\"enter the email id:\")\n",
    "    if '@' in email and '.' in email:\n",
    "        print(\"the email is valid\")\n",
    "\n",
    "    else:\n",
    "        print(\"invalid\")    \n",
    "email_check()        \n"
   ]
  },
  {
   "cell_type": "code",
   "execution_count": null,
   "metadata": {},
   "outputs": [
    {
     "name": "stdout",
     "output_type": "stream",
     "text": [
      "languages python programming\n"
     ]
    }
   ],
   "source": [
    "string1=\"{a} {b} {c}\".format(b='python',c='programming',a='languages')\n",
    "print(string1)"
   ]
  },
  {
   "cell_type": "markdown",
   "metadata": {},
   "source": [
    "### Function"
   ]
  },
  {
   "cell_type": "code",
   "execution_count": 1,
   "metadata": {},
   "outputs": [
    {
     "name": "stdout",
     "output_type": "stream",
     "text": [
      "['Deva', 'velan'] \n",
      " [4012, 4057] \n",
      " ['cse', 'cse'] \n",
      " [5000, 5000]\n"
     ]
    }
   ],
   "source": [
    "student_names=[]\n",
    "roll_nos=[]\n",
    "branches=[]\n",
    "paid_amounts=[]\n",
    "    \n",
    "def create_student(name,roll_no,branch,fee):\n",
    "    student_names.append(name)\n",
    "    roll_nos.append(roll_no)\n",
    "    branches.append(branch)\n",
    "    paid_amounts.append(fee)\n",
    "create_student('Deva',4012,'cse',5000)\n",
    "create_student('velan',4057,'cse',5000)\n",
    "print(student_names,\"\\n\",roll_nos,\"\\n\",branches,\"\\n\",paid_amounts)\n"
   ]
  },
  {
   "cell_type": "markdown",
   "metadata": {},
   "source": [
    "#### Class"
   ]
  },
  {
   "cell_type": "code",
   "execution_count": 20,
   "metadata": {},
   "outputs": [
    {
     "name": "stdout",
     "output_type": "stream",
     "text": [
      "deva\n"
     ]
    }
   ],
   "source": [
    "class Students:\n",
    "    def __init__(self,name,roll_no,branch,fee):\n",
    "        self.name=name\n",
    "        self.roll_no=roll_no\n",
    "        self.branch=branch\n",
    "        self.fee=fee\n",
    "a=Students('deva',12,'cse',4000)\n",
    "print(a.name)\n",
    "     "
   ]
  },
  {
   "cell_type": "markdown",
   "metadata": {},
   "source": [
    "#### Format string"
   ]
  },
  {
   "cell_type": "code",
   "execution_count": null,
   "metadata": {},
   "outputs": [
    {
     "name": "stdout",
     "output_type": "stream",
     "text": [
      "Deva is a boy\n",
      "velan is a boy\n"
     ]
    }
   ],
   "source": [
    "for i in student_names:\n",
    "    print(f\"{i} is a boy\")"
   ]
  },
  {
   "cell_type": "markdown",
   "metadata": {},
   "source": [
    "#### Variables vs properties and functions vs methods"
   ]
  },
  {
   "cell_type": "code",
   "execution_count": 4,
   "metadata": {},
   "outputs": [
    {
     "name": "stdout",
     "output_type": "stream",
     "text": [
      "the name of the student is Abishek and the roll no is 12.\n"
     ]
    }
   ],
   "source": [
    "name=\"Abishek\"\n",
    "roll_no=12\n",
    "branch='cse'\n",
    "fee=12000\n",
    "\n",
    "def get_details():\n",
    "    print(f\"the name of the student is {name} and the roll no is {roll_no}.\")\n",
    "\n",
    "def get_summary():\n",
    "    print(f\"his name is {name} and his roll no is{roll_no}\\n\")\n",
    "\n",
    "get_details()    \n",
    "\n"
   ]
  },
  {
   "cell_type": "code",
   "execution_count": 18,
   "metadata": {},
   "outputs": [
    {
     "name": "stdout",
     "output_type": "stream",
     "text": [
      "name:abishek\n",
      "id_no:12\n",
      " DOB:-2008\n",
      " mob_no:923039\n",
      "name:abishek\n",
      "id_no:12\n",
      " DOB:-2008\n",
      " mob_no:923039\n",
      " dept:cse\n",
      " fee:12000\n",
      " p_year:2025\n"
     ]
    }
   ],
   "source": [
    "\n",
    "class details:\n",
    "    def __init__(self,name,id_no,dob,mob_no):\n",
    "        self.name=name\n",
    "        self.id_no=id_no\n",
    "        self.dob=dob\n",
    "        self.mob_no=mob_no\n",
    "\n",
    "    def get_detail(self):\n",
    "        print(f\"name:{self.name}\\nid_no:{self.id_no}\\n DOB:{self.dob}\\n mob_no:{self.mob_no}\")           \n",
    "       \n",
    "class teacher(details):\n",
    "    def __init__(self, name, id_no, dob, mob_no, dept):\n",
    "        super().__init__(name, id_no, dob, mob_no,)\n",
    "        self.dept=dept\n",
    "    \n",
    "\n",
    "class non_teacher(details):\n",
    "    pass\n",
    "    \n",
    "class student(teacher):\n",
    "    def __init__(self, name, id_no, dob, mob_no, dept,fee,p_year):\n",
    "        super().__init__(name, id_no, dob, mob_no, dept)\n",
    "        self.fee = fee\n",
    "        self.p_year = p_year\n",
    "    def get_detail(self):\n",
    "        print(f\"name:{self.name}\\nid_no:{self.id_no}\\n DOB:{self.dob}\\n mob_no:{self.mob_no}\\n dept:{self.dept}\\n fee:{self.fee}\\n p_year:{self.p_year}\")         \n",
    "\n",
    "        \n",
    "       \n",
    " \n",
    "\n",
    "s=non_teacher(\"abishek\",12,3-8-2003,923039)\n",
    "y=student(\"abishek\",12,3-8-2003,923039,'cse',12000,2025)\n",
    "s.get_detail()\n",
    "y.get_detail()\n",
    "\n",
    "\n",
    "       "
   ]
  }
 ],
 "metadata": {
  "kernelspec": {
   "display_name": "Python 3",
   "language": "python",
   "name": "python3"
  },
  "language_info": {
   "codemirror_mode": {
    "name": "ipython",
    "version": 3
   },
   "file_extension": ".py",
   "mimetype": "text/x-python",
   "name": "python",
   "nbconvert_exporter": "python",
   "pygments_lexer": "ipython3",
   "version": "3.11.2"
  }
 },
 "nbformat": 4,
 "nbformat_minor": 2
}
